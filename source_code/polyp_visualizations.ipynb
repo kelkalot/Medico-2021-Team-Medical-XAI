{
 "cells": [
  {
   "cell_type": "code",
   "execution_count": 1,
   "source": [
    "#Importing libraries: \n",
    "from PIL import Image\n",
    "import random, os\n",
    "import torch\n",
    "import torch.nn as nn\n",
    "import pandas as pd\n",
    "import sklearn\n",
    "import matplotlib.pyplot as plt\n",
    "\n",
    "from torchvision import datasets, models, transforms\n",
    "from torch.utils.data import DataLoader\n",
    "import sys\n",
    "sys.path.append('/')\n",
    "\n",
    "#requriements\n",
    "#pip install efficientnet_pytorch\n",
    "#conda install -c conda-forge opencv\n",
    "\n",
    "import cv2\n",
    "import numpy as np\n",
    "from efficientnet_pytorch import EfficientNet\n",
    "from grad_cam import GradCam,GuidedBackpropReLUModel,show_cams,show_gbs,preprocess_image"
   ],
   "outputs": [],
   "metadata": {}
  },
  {
   "cell_type": "code",
   "execution_count": 581,
   "source": [
    "#Load the model\n",
    "model = EfficientNet.from_name('efficientnet-b1')\n",
    "for params in model.parameters():\n",
    "    params.requires_grad = True"
   ],
   "outputs": [],
   "metadata": {}
  },
  {
   "cell_type": "code",
   "execution_count": 582,
   "source": [
    "#Add extra steps for last layer and correct number of classes (=1):\n",
    "in_ftrs = model._fc.in_features\n",
    "model._fc = nn.Linear(in_ftrs, 1)\n"
   ],
   "outputs": [],
   "metadata": {}
  },
  {
   "cell_type": "code",
   "execution_count": 583,
   "source": [
    "#To load the best model:\n",
    "loaded_model = model\n",
    "loaded_model.load_state_dict(torch.load('1000images_200_clusters.pt'))"
   ],
   "outputs": [
    {
     "output_type": "execute_result",
     "data": {
      "text/plain": [
       "<All keys matched successfully>"
      ]
     },
     "metadata": {},
     "execution_count": 583
    }
   ],
   "metadata": {}
  },
  {
   "cell_type": "code",
   "execution_count": 584,
   "source": [
    "grad_cam = GradCam(model=loaded_model, blob_name = '_blocks', target_layer_names=['10','13','14','15','20','21','22'], use_cuda=False)\n",
    "img = cv2.imread('/assets/demo_raw', 1)\n",
    "img = np.float32(cv2.resize(img, (224, 224))) / 255\n",
    "inputs = preprocess_image(img)"
   ],
   "outputs": [],
   "metadata": {}
  },
  {
   "cell_type": "code",
   "execution_count": 585,
   "source": [
    "target_index = None #281 for cat #dog 245 or 242 one is bulldog and more accurate\n",
    "mask_dic = grad_cam(inputs, target_index)\n",
    "show_cams(img, mask_dic)\n",
    "gb_model = GuidedBackpropReLUModel(model=model, activation_layer_name = 'MemoryEfficientSwish', use_cuda=False)\n",
    "show_gbs(inputs, gb_model, target_index, mask_dic)"
   ],
   "outputs": [],
   "metadata": {}
  },
  {
   "cell_type": "markdown",
   "source": [
    "## Generate masks for all tiles in folder:"
   ],
   "metadata": {}
  },
  {
   "cell_type": "code",
   "execution_count": 595,
   "source": [
    "source_dir = '/MediaEvalMedico_21TestDataset/images'\n",
    "image_files = os.listdir(source_dir)"
   ],
   "outputs": [],
   "metadata": {}
  },
  {
   "cell_type": "code",
   "execution_count": 596,
   "source": [
    "mask_dic_list = []\n",
    "for _image in image_files:\n",
    "    #Load the model\n",
    "    model = EfficientNet.from_name('efficientnet-b1')\n",
    "    for params in model.parameters():\n",
    "        params.requires_grad = True\n",
    "    #Add extra steps for last layer and correct number of classes (=1):\n",
    "    in_ftrs = model._fc.in_features\n",
    "    model._fc = nn.Linear(in_ftrs, 1)\n",
    "    loaded_model = model\n",
    "    loaded_model.load_state_dict(torch.load('tile_1000images_50clusters.pt'))\n",
    "    \n",
    "    #Generate gradcam:\n",
    "    image_path = os.path.join(source_dir, _image)\n",
    "    #Extract heat map from layer 14:\n",
    "    grad_cam = GradCam(model=loaded_model, blob_name = '_blocks', target_layer_names=['14'], use_cuda=False)\n",
    "    img = cv2.imread(image_path, 1)\n",
    "    img = np.float32(cv2.resize(img, (224, 224))) / 255\n",
    "    inputs = preprocess_image(img)\n",
    "    #Set target as polyp\n",
    "    target_index = None \n",
    "    mask_dic = grad_cam(inputs, target_index)\n",
    "    mask_dic_list.append(mask_dic)"
   ],
   "outputs": [],
   "metadata": {}
  },
  {
   "cell_type": "code",
   "execution_count": 597,
   "source": [
    "#For model with 50 or 200 clusters (narrow threshold):\n",
    "segmentation_dic_list = []\n",
    "for _dic in mask_dic_list:\n",
    "    new_dic = _dic['14'].copy()\n",
    "    for _l in range(len(_dic['14'])):\n",
    "        for _p in range(len(_dic['14'][_l])):\n",
    "            if _dic['14'][_l][_p] > 0.4 and _dic['14'][_l][_p] < 0.7:\n",
    "                new_dic[_l][_p] = 1\n",
    "            else:\n",
    "                new_dic[_l][_p] = 0\n",
    "    new_dic = {'14':new_dic}\n",
    "    segmentation_dic_list.append(new_dic)"
   ],
   "outputs": [],
   "metadata": {}
  },
  {
   "cell_type": "code",
   "execution_count": 592,
   "source": [
    "pl.imshow(segmentation_dic_list[0]['14'])"
   ],
   "outputs": [
    {
     "output_type": "execute_result",
     "data": {
      "text/plain": [
       "<matplotlib.image.AxesImage at 0x190987370>"
      ]
     },
     "metadata": {},
     "execution_count": 592
    },
    {
     "output_type": "display_data",
     "data": {
      "image/png": "[encoded data removed]",
      "text/plain": [
       "<Figure size 432x288 with 1 Axes>"
      ]
     },
     "metadata": {
      "needs_background": "light"
     }
    }
   ],
   "metadata": {}
  },
  {
   "cell_type": "code",
   "execution_count": 594,
   "source": [
    "image_files[0][:-4]"
   ],
   "outputs": [
    {
     "output_type": "execute_result",
     "data": {
      "text/plain": [
       "'1f39a761-ff59-44a1-b4f9-0b10becf29cf'"
      ]
     },
     "metadata": {},
     "execution_count": 594
    }
   ],
   "metadata": {}
  },
  {
   "cell_type": "markdown",
   "source": [
    "## Save the segmentation masks in a folder"
   ],
   "metadata": {}
  },
  {
   "cell_type": "code",
   "execution_count": 598,
   "source": [
    "for s in range(len(segmentation_dic_list)):\n",
    "    fig = pl.imshow(segmentation_dic_list[s]['14'])\n",
    "    #Remove axis:\n",
    "    pl.axis('off')\n",
    "    save_path = '50clusters_layer14_masks_testdata/' + image_files[s][:-4] + '.png'\n",
    "    #Remove white spaces using pad_inches\n",
    "    pl.savefig(save_path, bbox_inches = 'tight', pad_inches = 0)\n",
    "    pl.close()"
   ],
   "outputs": [],
   "metadata": {}
  },
  {
   "cell_type": "markdown",
   "source": [
    "# Resize the images to original size and write to new folder as .png:"
   ],
   "metadata": {}
  },
  {
   "cell_type": "code",
   "execution_count": 626,
   "source": [
    "small_masks_dir = '50clusters_layer14_masks_testdata'\n",
    "small_mask_files = os.listdir(small_masks_dir)\n",
    "small_mask_files.remove('.DS_Store')\n",
    "large_masks_dir = 'Run1'"
   ],
   "outputs": [],
   "metadata": {}
  },
  {
   "cell_type": "code",
   "execution_count": 627,
   "source": [
    "len(small_mask_files)"
   ],
   "outputs": [
    {
     "output_type": "execute_result",
     "data": {
      "text/plain": [
       "200"
      ]
     },
     "metadata": {},
     "execution_count": 627
    }
   ],
   "metadata": {}
  },
  {
   "cell_type": "code",
   "execution_count": 628,
   "source": [
    "from PIL import Image\n",
    "for _mask in range(len(small_mask_files)):\n",
    "    img = Image.open(small_masks_dir + '/' + small_mask_files[_mask])\n",
    "    #print(source_dir + '/' + small_mask_files[_mask])\n",
    "    orig_image = cv2.imread(source_dir + '/' + small_mask_files[_mask][:-4] + '.jpg', 1)\n",
    "    height, width, channels = orig_image.shape\n",
    "    img = img.resize((width,height), Image.ANTIALIAS)\n",
    "    img = img.save(large_masks_dir + '/' + small_mask_files[_mask][:-4] + '.png')\n",
    "    "
   ],
   "outputs": [
    {
     "output_type": "stream",
     "name": "stdout",
     "text": [
      "/Users/andreastoras/Downloads/MediaEvalMedico_21TestDataset/images/1f39a761-ff59-44a1-b4f9-0b10becf29cf.jpg\n",
      "/Users/andreastoras/Downloads/MediaEvalMedico_21TestDataset/images/ed5fb1f6-732d-4a6a-a5a2-c88fee2ef1cd.jpg\n",
      "/Users/andreastoras/Downloads/MediaEvalMedico_21TestDataset/images/2c3887a0-88e6-43df-8fb6-61f34ecae93f.jpg\n",
      "/Users/andreastoras/Downloads/MediaEvalMedico_21TestDataset/images/0edc6d1b-f23b-48aa-adea-4610f2f8bceb.jpg\n",
      "/Users/andreastoras/Downloads/MediaEvalMedico_21TestDataset/images/ea95b1da-a74a-46f9-a56a-e07335c5e2dd.jpg\n",
      "/Users/andreastoras/Downloads/MediaEvalMedico_21TestDataset/images/02a47ca5-8c9e-4a25-af7c-0829d3bb6d11.jpg\n",
      "/Users/andreastoras/Downloads/MediaEvalMedico_21TestDataset/images/f1af53f4-91bb-4d68-9833-f4b9b95e406c.jpg\n",
      "/Users/andreastoras/Downloads/MediaEvalMedico_21TestDataset/images/2cb0abd5-0558-4be2-a4ac-7c6da2686099.jpg\n",
      "/Users/andreastoras/Downloads/MediaEvalMedico_21TestDataset/images/2d0a5406-3781-43e9-bed7-14a0f62cc19a.jpg\n",
      "/Users/andreastoras/Downloads/MediaEvalMedico_21TestDataset/images/0fd353ad-9416-4f66-b79d-35e3b472e7ee.jpg\n",
      "/Users/andreastoras/Downloads/MediaEvalMedico_21TestDataset/images/e8744a7b-12a5-42de-bef4-dbe15c9e8468.jpg\n",
      "/Users/andreastoras/Downloads/MediaEvalMedico_21TestDataset/images/1eac29a3-ea3a-4585-95d5-c63de409513d.jpg\n",
      "/Users/andreastoras/Downloads/MediaEvalMedico_21TestDataset/images/e3264d6d-f1ba-4e61-aa25-a567965e18a6.jpg\n",
      "/Users/andreastoras/Downloads/MediaEvalMedico_21TestDataset/images/ed5bb98b-e127-431a-89e7-e4426284d384.jpg\n",
      "/Users/andreastoras/Downloads/MediaEvalMedico_21TestDataset/images/1a3e796f-0cf4-472d-845f-0ae6c4d50edc.jpg\n",
      "/Users/andreastoras/Downloads/MediaEvalMedico_21TestDataset/images/e55846a2-9927-4d05-a78b-00100e26d55a.jpg\n",
      "/Users/andreastoras/Downloads/MediaEvalMedico_21TestDataset/images/0c70aef4-83c2-44d7-8e14-5847e3875aab.jpg\n",
      "/Users/andreastoras/Downloads/MediaEvalMedico_21TestDataset/images/1c236063-7718-45a4-b25c-3aca53a61ca5.jpg\n",
      "/Users/andreastoras/Downloads/MediaEvalMedico_21TestDataset/images/0fcebda2-605e-419d-abbd-8224be902a21.jpg\n",
      "/Users/andreastoras/Downloads/MediaEvalMedico_21TestDataset/images/3d831d84-6245-41ba-976f-8830fd0c1152.jpg\n",
      "/Users/andreastoras/Downloads/MediaEvalMedico_21TestDataset/images/0c3d86a5-6c13-4f7c-9e26-a5b8159088c2.jpg\n",
      "/Users/andreastoras/Downloads/MediaEvalMedico_21TestDataset/images/e4240971-477e-4dca-91f1-94beba166160.jpg\n",
      "/Users/andreastoras/Downloads/MediaEvalMedico_21TestDataset/images/ed4bb384-cbc6-4d17-810a-4e8e2f6b849a.jpg\n",
      "/Users/andreastoras/Downloads/MediaEvalMedico_21TestDataset/images/ee2c62dc-9fd1-44c2-9c8b-e855e980942f.jpg\n",
      "/Users/andreastoras/Downloads/MediaEvalMedico_21TestDataset/images/ee3fcfa7-4e5d-4659-b781-ac70d7fc1dd3.jpg\n",
      "/Users/andreastoras/Downloads/MediaEvalMedico_21TestDataset/images/01d2227c-b9a1-426f-9375-45d787bffd61.jpg\n",
      "/Users/andreastoras/Downloads/MediaEvalMedico_21TestDataset/images/6ff4d484-01f0-466a-b8de-f2adc2f32be8.jpg\n",
      "/Users/andreastoras/Downloads/MediaEvalMedico_21TestDataset/images/0f3293a6-60af-4950-9b48-791bc44eac49.jpg\n",
      "/Users/andreastoras/Downloads/MediaEvalMedico_21TestDataset/images/ef9ce921-37c3-4ded-8e51-655842cb5826.jpg\n",
      "/Users/andreastoras/Downloads/MediaEvalMedico_21TestDataset/images/2a9bb945-57e2-4fb9-a57c-2ed321e7b5ea.jpg\n",
      "/Users/andreastoras/Downloads/MediaEvalMedico_21TestDataset/images/0b54a431-20c8-4eaf-bd97-9c235b123ffb.jpg\n",
      "/Users/andreastoras/Downloads/MediaEvalMedico_21TestDataset/images/eee5c82b-8868-4b35-9070-d4f31dccc7da.jpg\n",
      "/Users/andreastoras/Downloads/MediaEvalMedico_21TestDataset/images/1e0ee7fc-64a0-4254-97b6-629e5b07ba51.jpg\n",
      "/Users/andreastoras/Downloads/MediaEvalMedico_21TestDataset/images/e831e749-2fa9-4c94-8950-f09861000647.jpg\n",
      "/Users/andreastoras/Downloads/MediaEvalMedico_21TestDataset/images/e901c352-88b6-4ee9-8235-465912e701e8.jpg\n",
      "/Users/andreastoras/Downloads/MediaEvalMedico_21TestDataset/images/1f4f2aa9-8311-4b45-9ac8-4b5e6a02fbdb.jpg\n",
      "/Users/andreastoras/Downloads/MediaEvalMedico_21TestDataset/images/efcebad4-8bf4-4b5b-afd6-0262f22bb5ab.jpg\n",
      "/Users/andreastoras/Downloads/MediaEvalMedico_21TestDataset/images/ebe31b91-7ed2-476f-a172-d7d422ccd7a2.jpg\n",
      "/Users/andreastoras/Downloads/MediaEvalMedico_21TestDataset/images/3dc35d60-640d-4db9-9593-83a27a619428.jpg\n",
      "/Users/andreastoras/Downloads/MediaEvalMedico_21TestDataset/images/1cce683c-7756-4154-b4f2-0bed77aa4a29.jpg\n",
      "/Users/andreastoras/Downloads/MediaEvalMedico_21TestDataset/images/eec9c113-d467-496c-8987-6e3d826fcb1a.jpg\n",
      "/Users/andreastoras/Downloads/MediaEvalMedico_21TestDataset/images/7c656e22-4035-42cc-9bda-4c8761f28f73.jpg\n",
      "/Users/andreastoras/Downloads/MediaEvalMedico_21TestDataset/images/e853197a-22fb-4cf4-a4e3-f8b7e5a2b522.jpg\n",
      "/Users/andreastoras/Downloads/MediaEvalMedico_21TestDataset/images/2cc92b54-fcbc-4617-b9fc-5477c21b5be9.jpg\n",
      "/Users/andreastoras/Downloads/MediaEvalMedico_21TestDataset/images/ec9c8f63-36d5-4ed2-81d0-6b9794bb2dee.jpg\n",
      "/Users/andreastoras/Downloads/MediaEvalMedico_21TestDataset/images/ebf0124d-ab6e-4d74-a638-d95859a276d7.jpg\n",
      "/Users/andreastoras/Downloads/MediaEvalMedico_21TestDataset/images/ef8d5827-b524-4815-93bc-e13ff3deac35.jpg\n",
      "/Users/andreastoras/Downloads/MediaEvalMedico_21TestDataset/images/3d2ee1c0-4a1a-4567-b2ec-7aa48cddaebb.jpg\n",
      "/Users/andreastoras/Downloads/MediaEvalMedico_21TestDataset/images/e2181369-a85e-48cd-9945-c635e8d7505c.jpg\n",
      "/Users/andreastoras/Downloads/MediaEvalMedico_21TestDataset/images/0b42905d-356d-499c-9487-6eb166a0bece.jpg\n",
      "/Users/andreastoras/Downloads/MediaEvalMedico_21TestDataset/images/0e714d8e-395b-47f7-9420-95ebc43f6fb9.jpg\n",
      "/Users/andreastoras/Downloads/MediaEvalMedico_21TestDataset/images/e825f9de-9fc4-41a1-9b9a-781c1d16744b.jpg\n",
      "/Users/andreastoras/Downloads/MediaEvalMedico_21TestDataset/images/0ac12a79-411c-4c97-96bc-7ef235d30197.jpg\n",
      "/Users/andreastoras/Downloads/MediaEvalMedico_21TestDataset/images/0baf8dcf-965c-4601-9e90-888605e4d08b.jpg\n",
      "/Users/andreastoras/Downloads/MediaEvalMedico_21TestDataset/images/0b7e3eeb-0461-4c4d-bbe4-be8838d70be5.jpg\n",
      "/Users/andreastoras/Downloads/MediaEvalMedico_21TestDataset/images/ee3e06d9-74e4-4c3e-ad17-c653599c1b1a.jpg\n",
      "/Users/andreastoras/Downloads/MediaEvalMedico_21TestDataset/images/ebc1fdf9-1a3d-4727-9c05-839fe6301bec.jpg\n",
      "/Users/andreastoras/Downloads/MediaEvalMedico_21TestDataset/images/1e3d18ed-9f65-4abe-911c-0d0e35ffee30.jpg\n",
      "/Users/andreastoras/Downloads/MediaEvalMedico_21TestDataset/images/e28906c9-d311-4f68-85c1-7643ef5ce53f.jpg\n",
      "/Users/andreastoras/Downloads/MediaEvalMedico_21TestDataset/images/efb2f003-6f17-47df-964b-7e061eb716d9.jpg\n",
      "/Users/andreastoras/Downloads/MediaEvalMedico_21TestDataset/images/eef691c5-fdfd-478b-9b20-d4630776acba.jpg\n",
      "/Users/andreastoras/Downloads/MediaEvalMedico_21TestDataset/images/e51836f5-001a-41c4-82d1-ae1ddd7aec1d.jpg\n",
      "/Users/andreastoras/Downloads/MediaEvalMedico_21TestDataset/images/e26027d5-bc76-495e-871e-d76e62700490.jpg\n",
      "/Users/andreastoras/Downloads/MediaEvalMedico_21TestDataset/images/ef7acc56-f4ab-4b58-b239-cafe940ca170.jpg\n",
      "/Users/andreastoras/Downloads/MediaEvalMedico_21TestDataset/images/eaca5bf0-d38d-44d5-a4e4-8fac741cb256.jpg\n",
      "/Users/andreastoras/Downloads/MediaEvalMedico_21TestDataset/images/2d4b255c-f94b-4fcd-ad64-4e62eee102c3.jpg\n",
      "/Users/andreastoras/Downloads/MediaEvalMedico_21TestDataset/images/e934d2eb-d491-4fd0-beb8-0634f7b5b057.jpg\n",
      "/Users/andreastoras/Downloads/MediaEvalMedico_21TestDataset/images/1e3b0dc6-8e4e-42fc-8f3d-0f2de1023c96.jpg\n",
      "/Users/andreastoras/Downloads/MediaEvalMedico_21TestDataset/images/0c6cf8be-04b4-4197-af61-be33f5b36ece.jpg\n",
      "/Users/andreastoras/Downloads/MediaEvalMedico_21TestDataset/images/2ad8c12f-751e-41c4-bd64-8dea99de4ea0.jpg\n",
      "/Users/andreastoras/Downloads/MediaEvalMedico_21TestDataset/images/0f907f12-b654-4039-8442-962d9f679598.jpg\n",
      "/Users/andreastoras/Downloads/MediaEvalMedico_21TestDataset/images/2c324452-9bd6-4653-b31c-f32175d706e3.jpg\n",
      "/Users/andreastoras/Downloads/MediaEvalMedico_21TestDataset/images/0e4f3052-a9d6-4d69-878d-efdbc9f8d804.jpg\n",
      "/Users/andreastoras/Downloads/MediaEvalMedico_21TestDataset/images/2c6d8dfe-2984-4078-b143-b54a273e43fe.jpg\n",
      "/Users/andreastoras/Downloads/MediaEvalMedico_21TestDataset/images/9a7240e4-48c0-4303-8e22-2b547dc30501.jpg\n",
      "/Users/andreastoras/Downloads/MediaEvalMedico_21TestDataset/images/ebaa3cf5-9476-4d07-8eb8-1f5561700701.jpg\n",
      "/Users/andreastoras/Downloads/MediaEvalMedico_21TestDataset/images/0f86ccc8-4264-40b0-a235-5dddbf63ff52.jpg\n"
     ]
    },
    {
     "output_type": "stream",
     "name": "stdout",
     "text": [
      "/Users/andreastoras/Downloads/MediaEvalMedico_21TestDataset/images/e8930c78-fbb3-4359-ac10-a2efe733e814.jpg\n",
      "/Users/andreastoras/Downloads/MediaEvalMedico_21TestDataset/images/0bb2e271-f2ec-41eb-844f-b9ed824823e3.jpg\n",
      "/Users/andreastoras/Downloads/MediaEvalMedico_21TestDataset/images/e2336dc9-dd44-4bc3-8d66-8a05d9c626f8.jpg\n",
      "/Users/andreastoras/Downloads/MediaEvalMedico_21TestDataset/images/0b51fc05-a393-4d93-a96b-dc339ffc55d6.jpg\n",
      "/Users/andreastoras/Downloads/MediaEvalMedico_21TestDataset/images/e66314ae-8b6e-445d-9f53-c42ae012ce55.jpg\n",
      "/Users/andreastoras/Downloads/MediaEvalMedico_21TestDataset/images/ef1cca98-e98d-4ab8-8412-a8e9656cb7ef.jpg\n",
      "/Users/andreastoras/Downloads/MediaEvalMedico_21TestDataset/images/ef4fb2e2-fecc-4b46-b874-9ee885023147.jpg\n",
      "/Users/andreastoras/Downloads/MediaEvalMedico_21TestDataset/images/3d9b8807-c49a-49ba-8ef6-5371dddf8905.jpg\n",
      "/Users/andreastoras/Downloads/MediaEvalMedico_21TestDataset/images/e8762fa3-13d0-46bc-b7ec-2437c7080ff4.jpg\n",
      "/Users/andreastoras/Downloads/MediaEvalMedico_21TestDataset/images/ed64c76c-0b9d-498f-a96f-94ea16e4ac95.jpg\n",
      "/Users/andreastoras/Downloads/MediaEvalMedico_21TestDataset/images/1edbe964-41d0-4262-a798-b9fc7c32f416.jpg\n",
      "/Users/andreastoras/Downloads/MediaEvalMedico_21TestDataset/images/ebda56b1-f585-4268-a052-b671e446ceeb.jpg\n",
      "/Users/andreastoras/Downloads/MediaEvalMedico_21TestDataset/images/eee4a0bb-24a5-48eb-8161-ace5fde50cb5.jpg\n",
      "/Users/andreastoras/Downloads/MediaEvalMedico_21TestDataset/images/1e3712c8-5cf2-423c-8430-6fcc42c12d92.jpg\n",
      "/Users/andreastoras/Downloads/MediaEvalMedico_21TestDataset/images/ea717261-098d-4473-83b0-c1aea8095c7b.jpg\n",
      "/Users/andreastoras/Downloads/MediaEvalMedico_21TestDataset/images/1e8536e0-2da8-4d84-90a3-f6616c6b10ac.jpg\n",
      "/Users/andreastoras/Downloads/MediaEvalMedico_21TestDataset/images/e32594e6-7c0b-4953-b113-6932f25ee144.jpg\n",
      "/Users/andreastoras/Downloads/MediaEvalMedico_21TestDataset/images/eaba1f8e-b7ce-4171-93fa-9169ed216822.jpg\n",
      "/Users/andreastoras/Downloads/MediaEvalMedico_21TestDataset/images/eae81046-a876-4fa1-aa03-9eb7a20d9333.jpg\n",
      "/Users/andreastoras/Downloads/MediaEvalMedico_21TestDataset/images/0c1a0c1a-a2b1-4403-bae9-27e7cce3ebde.jpg\n",
      "/Users/andreastoras/Downloads/MediaEvalMedico_21TestDataset/images/ee1fbe13-bc69-42c7-9891-37094852949f.jpg\n",
      "/Users/andreastoras/Downloads/MediaEvalMedico_21TestDataset/images/3cd5c7cc-721e-47c1-8064-5b3740c33631.jpg\n",
      "/Users/andreastoras/Downloads/MediaEvalMedico_21TestDataset/images/e887718c-0594-4f85-a903-beaa52131edf.jpg\n",
      "/Users/andreastoras/Downloads/MediaEvalMedico_21TestDataset/images/2c61fab6-a183-4480-ac99-11f796c6ffe7.jpg\n",
      "/Users/andreastoras/Downloads/MediaEvalMedico_21TestDataset/images/ed7eab79-9ec6-4dc4-ab32-0468614d3aff.jpg\n",
      "/Users/andreastoras/Downloads/MediaEvalMedico_21TestDataset/images/8a8e58ff-f403-4d86-bf46-c6a0069a2582.jpg\n",
      "/Users/andreastoras/Downloads/MediaEvalMedico_21TestDataset/images/e2930eca-5fb1-4baf-b8e6-26f44a46e79c.jpg\n",
      "/Users/andreastoras/Downloads/MediaEvalMedico_21TestDataset/images/e925f7f8-0699-44dd-9382-e52f8a286a71.jpg\n",
      "/Users/andreastoras/Downloads/MediaEvalMedico_21TestDataset/images/eae03d29-b64d-4d96-a6b5-845e42a305b1.jpg\n",
      "/Users/andreastoras/Downloads/MediaEvalMedico_21TestDataset/images/0eb7060d-4ab1-4740-9830-9702441feb0f.jpg\n",
      "/Users/andreastoras/Downloads/MediaEvalMedico_21TestDataset/images/ee2d6d4d-92e6-4e8d-91c5-b6be613e91d8.jpg\n",
      "/Users/andreastoras/Downloads/MediaEvalMedico_21TestDataset/images/e6014878-e6d4-4d29-aca8-107c1ac63d6a.jpg\n",
      "/Users/andreastoras/Downloads/MediaEvalMedico_21TestDataset/images/edf5470b-db8f-44e5-9ef7-0613c203a468.jpg\n",
      "/Users/andreastoras/Downloads/MediaEvalMedico_21TestDataset/images/e1610796-08a2-4128-bbef-68a15414482e.jpg\n",
      "/Users/andreastoras/Downloads/MediaEvalMedico_21TestDataset/images/0fe2bbdc-a46b-4d84-9e03-f0dcc473b500.jpg\n",
      "/Users/andreastoras/Downloads/MediaEvalMedico_21TestDataset/images/1cd16595-28fd-4929-b0aa-b4d0ca3d8361.jpg\n",
      "/Users/andreastoras/Downloads/MediaEvalMedico_21TestDataset/images/f0df75d5-4c63-4b0c-975a-76b98bc35d08.jpg\n",
      "/Users/andreastoras/Downloads/MediaEvalMedico_21TestDataset/images/eade39a6-b86a-48f2-9300-2b7d30b64456.jpg\n",
      "/Users/andreastoras/Downloads/MediaEvalMedico_21TestDataset/images/ee6cd8ae-3212-4ca8-8ae0-987ec21526ac.jpg\n",
      "/Users/andreastoras/Downloads/MediaEvalMedico_21TestDataset/images/1cc4b51b-e2b9-4192-8788-13dcf5e20fa0.jpg\n",
      "/Users/andreastoras/Downloads/MediaEvalMedico_21TestDataset/images/0a7665a8-2f61-424e-b980-709835faea5e.jpg\n",
      "/Users/andreastoras/Downloads/MediaEvalMedico_21TestDataset/images/ef907042-2522-4e74-9c57-0c2eca69f902.jpg\n",
      "/Users/andreastoras/Downloads/MediaEvalMedico_21TestDataset/images/e4047456-daab-462f-9794-38b9c8f7d294.jpg\n",
      "/Users/andreastoras/Downloads/MediaEvalMedico_21TestDataset/images/0be85999-671e-4057-9a7a-5c6be6977126.jpg\n",
      "/Users/andreastoras/Downloads/MediaEvalMedico_21TestDataset/images/ec002b82-5ed0-42ae-a74a-1558e16934b1.jpg\n",
      "/Users/andreastoras/Downloads/MediaEvalMedico_21TestDataset/images/2e270c9f-06e0-4900-b910-e65a7e26bddd.jpg\n",
      "/Users/andreastoras/Downloads/MediaEvalMedico_21TestDataset/images/e2758405-4d17-418c-bac2-4488bc2cef9d.jpg\n",
      "/Users/andreastoras/Downloads/MediaEvalMedico_21TestDataset/images/e23334b6-e02a-41fd-baca-f02a3285be1a.jpg\n",
      "/Users/andreastoras/Downloads/MediaEvalMedico_21TestDataset/images/8abbf663-f590-4455-aad8-87537a0f3928.jpg\n",
      "/Users/andreastoras/Downloads/MediaEvalMedico_21TestDataset/images/e3086272-c857-4466-bf6d-996815cfd4e8.jpg\n",
      "/Users/andreastoras/Downloads/MediaEvalMedico_21TestDataset/images/0ba7a3db-760f-44b4-9fb4-b624b3e00639.jpg\n",
      "/Users/andreastoras/Downloads/MediaEvalMedico_21TestDataset/images/eabd7e38-c4b6-40fa-b76c-29c39f0adb3c.jpg\n",
      "/Users/andreastoras/Downloads/MediaEvalMedico_21TestDataset/images/2a94f293-689a-4430-93d4-7405eabf3a29.jpg\n",
      "/Users/andreastoras/Downloads/MediaEvalMedico_21TestDataset/images/ee7d5529-7653-48b5-8ad0-c4432ebb32ea.jpg\n",
      "/Users/andreastoras/Downloads/MediaEvalMedico_21TestDataset/images/1c955c1d-5193-4e6e-88ca-b6e945cc8551.jpg\n",
      "/Users/andreastoras/Downloads/MediaEvalMedico_21TestDataset/images/ebbd6667-9b00-4571-821b-0d59beaf9190.jpg\n",
      "/Users/andreastoras/Downloads/MediaEvalMedico_21TestDataset/images/ee1aa6db-daed-42d8-b3ab-d5d36cc954a0.jpg\n",
      "/Users/andreastoras/Downloads/MediaEvalMedico_21TestDataset/images/1c3cbc67-aa32-429d-b3c0-68a2ccd65b7e.jpg\n",
      "/Users/andreastoras/Downloads/MediaEvalMedico_21TestDataset/images/ee0f3d45-22d5-41a6-9386-bcd507f4463d.jpg\n",
      "/Users/andreastoras/Downloads/MediaEvalMedico_21TestDataset/images/1c286868-03ee-4826-8b56-6948de3bb5ad.jpg\n",
      "/Users/andreastoras/Downloads/MediaEvalMedico_21TestDataset/images/f0cc9fab-5a82-42eb-a9a3-185bcce626ae.jpg\n",
      "/Users/andreastoras/Downloads/MediaEvalMedico_21TestDataset/images/eb2230fb-8b03-4cd1-9630-4c467a629f13.jpg\n",
      "/Users/andreastoras/Downloads/MediaEvalMedico_21TestDataset/images/e3929660-68ad-47ca-8a8a-99aa25e8d96f.jpg\n",
      "/Users/andreastoras/Downloads/MediaEvalMedico_21TestDataset/images/1a1b66cb-ba27-4e95-af07-d5e2bde55175.jpg\n",
      "/Users/andreastoras/Downloads/MediaEvalMedico_21TestDataset/images/ef04370b-f767-4ee5-b109-b2ffdd330e99.jpg\n",
      "/Users/andreastoras/Downloads/MediaEvalMedico_21TestDataset/images/e5364613-3400-4c15-b755-4f8b63ab7c32.jpg\n",
      "/Users/andreastoras/Downloads/MediaEvalMedico_21TestDataset/images/eac32756-b853-403c-a067-466e3a67e483.jpg\n",
      "/Users/andreastoras/Downloads/MediaEvalMedico_21TestDataset/images/eba9440c-e137-4523-8f1c-22934e6a46e2.jpg\n",
      "/Users/andreastoras/Downloads/MediaEvalMedico_21TestDataset/images/ebe03e0d-6a32-413d-a3a5-a8bee3e332d0.jpg\n",
      "/Users/andreastoras/Downloads/MediaEvalMedico_21TestDataset/images/e3039f59-d9d6-48bf-8f95-38bb722d4054.jpg\n",
      "/Users/andreastoras/Downloads/MediaEvalMedico_21TestDataset/images/ebce87c9-6617-4ea4-9b9e-475ab77a62ca.jpg\n",
      "/Users/andreastoras/Downloads/MediaEvalMedico_21TestDataset/images/3b0860ef-2e4e-45a2-b1d5-d1aed2a7c131.jpg\n",
      "/Users/andreastoras/Downloads/MediaEvalMedico_21TestDataset/images/e54125f9-8aa6-4820-b446-411d2209f075.jpg\n",
      "/Users/andreastoras/Downloads/MediaEvalMedico_21TestDataset/images/e0881099-f0b1-4aa4-9503-b139626360d2.jpg\n",
      "/Users/andreastoras/Downloads/MediaEvalMedico_21TestDataset/images/1eb774b8-dfe5-43e7-a1b3-0bef461f9c97.jpg\n",
      "/Users/andreastoras/Downloads/MediaEvalMedico_21TestDataset/images/e3122da2-bc1a-466d-9577-fb87e50b1eb9.jpg\n",
      "/Users/andreastoras/Downloads/MediaEvalMedico_21TestDataset/images/1d4936b6-6b5b-46ed-b816-efce1e21ad11.jpg\n",
      "/Users/andreastoras/Downloads/MediaEvalMedico_21TestDataset/images/ec2b8c2b-debd-47b7-8e2b-f0eccacbd9c9.jpg\n"
     ]
    },
    {
     "output_type": "stream",
     "name": "stdout",
     "text": [
      "/Users/andreastoras/Downloads/MediaEvalMedico_21TestDataset/images/2d6b7de1-bce7-4353-a86e-5eb4dd880723.jpg\n",
      "/Users/andreastoras/Downloads/MediaEvalMedico_21TestDataset/images/2a9ef80d-1af8-4f0a-ba11-b00790a79815.jpg\n",
      "/Users/andreastoras/Downloads/MediaEvalMedico_21TestDataset/images/eec3528f-feaa-457e-aa9d-26f44f722a3e.jpg\n",
      "/Users/andreastoras/Downloads/MediaEvalMedico_21TestDataset/images/eaf13300-f5ed-40be-8f92-b3fa2487c65c.jpg\n",
      "/Users/andreastoras/Downloads/MediaEvalMedico_21TestDataset/images/ed5c8b65-7160-4e0b-8a40-1f02772bb67b.jpg\n",
      "/Users/andreastoras/Downloads/MediaEvalMedico_21TestDataset/images/ea559daa-3995-4fd3-bba9-ac26cf59b098.jpg\n",
      "/Users/andreastoras/Downloads/MediaEvalMedico_21TestDataset/images/2a7f994b-fb68-4f16-af00-e3a3871a6dce.jpg\n",
      "/Users/andreastoras/Downloads/MediaEvalMedico_21TestDataset/images/ef17501e-22c0-4001-8553-b6cdaf804162.jpg\n",
      "/Users/andreastoras/Downloads/MediaEvalMedico_21TestDataset/images/0b063da6-d842-41c1-bd33-a6118401429d.jpg\n",
      "/Users/andreastoras/Downloads/MediaEvalMedico_21TestDataset/images/e044352a-f821-4ea3-a70a-e704f6055ed9.jpg\n",
      "/Users/andreastoras/Downloads/MediaEvalMedico_21TestDataset/images/e3386acb-6a7f-43a6-832b-2a69b56b769f.jpg\n",
      "/Users/andreastoras/Downloads/MediaEvalMedico_21TestDataset/images/efb54e91-92b2-42fa-9050-b560d00f65c6.jpg\n",
      "/Users/andreastoras/Downloads/MediaEvalMedico_21TestDataset/images/f1df2129-29c6-44b7-80fc-d3626ab0a351.jpg\n",
      "/Users/andreastoras/Downloads/MediaEvalMedico_21TestDataset/images/ed54c3fe-d9ee-49be-9f1f-f31cf1c49f72.jpg\n",
      "/Users/andreastoras/Downloads/MediaEvalMedico_21TestDataset/images/ecdea6eb-97ce-4ad3-8bc5-175646df285c.jpg\n",
      "/Users/andreastoras/Downloads/MediaEvalMedico_21TestDataset/images/f3e2f6e6-6288-4d39-9c50-f81e9be13ace.jpg\n",
      "/Users/andreastoras/Downloads/MediaEvalMedico_21TestDataset/images/ed53d9fc-c29d-446e-bb0c-08bce931342a.jpg\n",
      "/Users/andreastoras/Downloads/MediaEvalMedico_21TestDataset/images/e911e059-fcdf-4aa5-9a2a-5ea6e20f59e6.jpg\n",
      "/Users/andreastoras/Downloads/MediaEvalMedico_21TestDataset/images/0b5740b8-8a9c-43f5-bf24-083d9ef0e6e1.jpg\n",
      "/Users/andreastoras/Downloads/MediaEvalMedico_21TestDataset/images/eeb57c39-93db-4452-adad-fcea49306c2c.jpg\n",
      "/Users/andreastoras/Downloads/MediaEvalMedico_21TestDataset/images/02c2556d-f11a-4727-9990-5e2544b92788.jpg\n",
      "/Users/andreastoras/Downloads/MediaEvalMedico_21TestDataset/images/2cfe460f-97b2-459a-9b80-95c6444b91fd.jpg\n",
      "/Users/andreastoras/Downloads/MediaEvalMedico_21TestDataset/images/0b777c78-13a1-4afe-a664-26d9fee2ae01.jpg\n",
      "/Users/andreastoras/Downloads/MediaEvalMedico_21TestDataset/images/0b677b3d-0325-49b3-9a56-83733be084bc.jpg\n",
      "/Users/andreastoras/Downloads/MediaEvalMedico_21TestDataset/images/edff4e72-25eb-4a4e-a393-b96e98f656a8.jpg\n",
      "/Users/andreastoras/Downloads/MediaEvalMedico_21TestDataset/images/efaea1b4-bb14-4bb7-9c6f-faeea24c967c.jpg\n",
      "/Users/andreastoras/Downloads/MediaEvalMedico_21TestDataset/images/edf16554-4314-4395-8c57-0ecb1e01ffe5.jpg\n",
      "/Users/andreastoras/Downloads/MediaEvalMedico_21TestDataset/images/0fa6ad42-7c5c-4d0f-9e47-7938468b75e4.jpg\n",
      "/Users/andreastoras/Downloads/MediaEvalMedico_21TestDataset/images/1c763354-fb73-4d0e-b408-9f16c9bb6000.jpg\n",
      "/Users/andreastoras/Downloads/MediaEvalMedico_21TestDataset/images/eeddc984-b6f2-448a-897d-dfc9ff0e4545.jpg\n",
      "/Users/andreastoras/Downloads/MediaEvalMedico_21TestDataset/images/9a81796c-179d-439b-804d-ce95188e57ba.jpg\n",
      "/Users/andreastoras/Downloads/MediaEvalMedico_21TestDataset/images/ef8f9c83-e3c0-4275-b6ca-ae55a5958a37.jpg\n",
      "/Users/andreastoras/Downloads/MediaEvalMedico_21TestDataset/images/eb8e6e10-f0df-4b14-84c2-5d0756cb1cd8.jpg\n",
      "/Users/andreastoras/Downloads/MediaEvalMedico_21TestDataset/images/e887d53c-0f0a-4be1-a529-63ce173cd7d7.jpg\n",
      "/Users/andreastoras/Downloads/MediaEvalMedico_21TestDataset/images/1c494923-73e5-4e5c-9e49-53c186e6b315.jpg\n",
      "/Users/andreastoras/Downloads/MediaEvalMedico_21TestDataset/images/ed6dd2e4-b33e-4dcb-b038-75a1f780a220.jpg\n",
      "/Users/andreastoras/Downloads/MediaEvalMedico_21TestDataset/images/7d9ecf7d-c848-4b9c-8f60-b41c37ad1175.jpg\n",
      "/Users/andreastoras/Downloads/MediaEvalMedico_21TestDataset/images/1d7c4516-7edf-4c89-8d12-3ce3c6115d64.jpg\n",
      "/Users/andreastoras/Downloads/MediaEvalMedico_21TestDataset/images/ecfabba0-9198-4ac8-a329-94d9befab7b1.jpg\n",
      "/Users/andreastoras/Downloads/MediaEvalMedico_21TestDataset/images/0b54479a-f17b-4802-a334-1d016d819441.jpg\n",
      "/Users/andreastoras/Downloads/MediaEvalMedico_21TestDataset/images/ed4be1cd-8a00-44eb-8941-eec3b8bb5143.jpg\n",
      "/Users/andreastoras/Downloads/MediaEvalMedico_21TestDataset/images/2a9a5f1b-727a-4e6b-b313-c21252c2a908.jpg\n",
      "/Users/andreastoras/Downloads/MediaEvalMedico_21TestDataset/images/2c72ec63-aa66-4edd-8dc8-71b1245ce04e.jpg\n",
      "/Users/andreastoras/Downloads/MediaEvalMedico_21TestDataset/images/2a5f8311-e332-4925-822c-95b2a8184384.jpg\n",
      "/Users/andreastoras/Downloads/MediaEvalMedico_21TestDataset/images/0c6f835a-6a59-4a2e-bb3a-5a035ab04d7b.jpg\n"
     ]
    }
   ],
   "metadata": {}
  }
 ],
 "metadata": {
  "kernelspec": {
   "display_name": "Python 3 (ipykernel)",
   "language": "python",
   "name": "python3"
  },
  "language_info": {
   "codemirror_mode": {
    "name": "ipython",
    "version": 3
   },
   "file_extension": ".py",
   "mimetype": "text/x-python",
   "name": "python",
   "nbconvert_exporter": "python",
   "pygments_lexer": "ipython3",
   "version": "3.8.9"
  }
 },
 "nbformat": 4,
 "nbformat_minor": 5
}
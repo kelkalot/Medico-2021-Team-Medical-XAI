{
 "cells": [
  {
   "cell_type": "code",
   "execution_count": 1,
   "source": [
    "#Importing libraries: \n",
    "from PIL import Image\n",
    "import random, os\n",
    "import torch\n",
    "import torch.nn as nn\n",
    "import pandas as pd\n",
    "import sklearn\n",
    "import matplotlib.pyplot as plt\n",
    "\n",
    "from torchvision import datasets, models, transforms\n",
    "from torch.utils.data import DataLoader\n",
    "import sys\n",
    "sys.path.append('/')\n",
    "\n",
    "#requriements\n",
    "#pip install efficientnet_pytorch\n",
    "#conda install -c conda-forge opencv\n",
    "\n",
    "import cv2\n",
    "import numpy as np\n",
    "from efficientnet_pytorch import EfficientNet\n",
    "from grad_cam import GradCam,GuidedBackpropReLUModel,show_cams,show_gbs,preprocess_image"
   ],
   "outputs": [],
   "metadata": {}
  },
  {
   "cell_type": "code",
   "execution_count": 581,
   "source": [
    "#Load the model\n",
    "model = EfficientNet.from_name('efficientnet-b1')\n",
    "for params in model.parameters():\n",
    "    params.requires_grad = True"
   ],
   "outputs": [],
   "metadata": {}
  },
  {
   "cell_type": "code",
   "execution_count": 582,
   "source": [
    "#Add extra steps for last layer and correct number of classes (=1):\n",
    "in_ftrs = model._fc.in_features\n",
    "model._fc = nn.Linear(in_ftrs, 1)\n"
   ],
   "outputs": [],
   "metadata": {}
  },
  {
   "cell_type": "code",
   "execution_count": 583,
   "source": [
    "#To load the model:\n",
    "loaded_model = model\n",
    "loaded_model.load_state_dict(torch.load('1000images_200_clusters.pt'))"
   ],
   "outputs": [
    {
     "output_type": "execute_result",
     "data": {
      "text/plain": [
       "<All keys matched successfully>"
      ]
     },
     "metadata": {},
     "execution_count": 583
    }
   ],
   "metadata": {}
  },
  {
   "cell_type": "code",
   "execution_count": 584,
   "source": [
    "#Extract Grad-cam heat maps:\n",
    "grad_cam = GradCam(model=loaded_model, blob_name = '_blocks', target_layer_names=['10','13','14','15','20','21','22'], use_cuda=False)\n",
    "img = cv2.imread('/assets/demo_raw', 1)\n",
    "img = np.float32(cv2.resize(img, (224, 224))) / 255\n",
    "inputs = preprocess_image(img)"
   ],
   "outputs": [],
   "metadata": {}
  },
  {
   "cell_type": "code",
   "execution_count": 585,
   "source": [
    "target_index = None #281 for cat #dog 245 or 242 one is bulldog and more accurate\n",
    "mask_dic = grad_cam(inputs, target_index)\n",
    "show_cams(img, mask_dic)\n",
    "gb_model = GuidedBackpropReLUModel(model=model, activation_layer_name = 'MemoryEfficientSwish', use_cuda=False)\n",
    "show_gbs(inputs, gb_model, target_index, mask_dic)"
   ],
   "outputs": [],
   "metadata": {}
  },
  {
   "cell_type": "code",
   "execution_count": 597,
   "source": [
    "#Generate segmentation masks based on the heat maps\n",
    "#For model with 50 or 200 clusters (narrow threshold):\n",
    "segmentation_dic = []\n",
    "new_dic = mask_dic['14'].copy()\n",
    "for _l in range(len(mask_dic['14'])):\n",
    "    for _p in range(len(mask_dic['14'][_l])):\n",
    "        if _dic['14'][_l][_p] > 0.4 and _dic['14'][_l][_p] < 0.7:\n",
    "            new_dic[_l][_p] = 1\n",
    "        else:\n",
    "            new_dic[_l][_p] = 0\n",
    "new_dic = {'14':new_dic}\n",
    "segmentation_dic.append(new_dic)"
   ],
   "outputs": [],
   "metadata": {}
  },
  {
   "cell_type": "code",
   "execution_count": 592,
   "source": [
    "#To plot the grad-cam and segmentation masks:\n",
    "pl.imshow(mask_dic['14'])\n",
    "pl.imshow(segmentation_dic['14'])"
   ],
   "outputs": [
    {
     "output_type": "execute_result",
     "data": {
      "text/plain": [
       "<matplotlib.image.AxesImage at 0x190987370>"
      ]
     },
     "metadata": {},
     "execution_count": 592
    },
    {
     "output_type": "display_data",
     "data": {
      "image/png": "[encoded data removed]",
      "text/plain": [
       "<Figure size 432x288 with 1 Axes>"
      ]
     },
     "metadata": {
      "needs_background": "light"
     }
    }
   ],
   "metadata": {}
  }
 ],
 "metadata": {
  "kernelspec": {
   "display_name": "Python 3 (ipykernel)",
   "language": "python",
   "name": "python3"
  },
  "language_info": {
   "codemirror_mode": {
    "name": "ipython",
    "version": 3
   },
   "file_extension": ".py",
   "mimetype": "text/x-python",
   "name": "python",
   "nbconvert_exporter": "python",
   "pygments_lexer": "ipython3",
   "version": "3.8.9"
  }
 },
 "nbformat": 4,
 "nbformat_minor": 5
}